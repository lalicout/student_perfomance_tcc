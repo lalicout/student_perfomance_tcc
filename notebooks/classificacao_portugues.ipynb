{
 "cells": [
  {
   "cell_type": "markdown",
   "id": "7d4cd618",
   "metadata": {},
   "source": [
    "# Análise dos Classificadores com Otimização de Hiperparâmetros\n",
    "\n",
    "Este notebook documenta os hiperparâmetros utilizados na otimização de modelos selecionados para predição binária de aprovação escolar. São apresentadas:\n",
    "\n",
    "- As combinações testadas para cada modelo,\n",
    "- As seleções de atributos utilizadas nos experimentos,\n",
    "- Um relatório dos principais resultados obtidos (desempenho no teste e validação cruzada),\n",
    "- Diagnósticos de overfitting, underfitting ou estabilidade.\n",
    "\n",
    "Todos os experimentos foram realizados a partir da função `avaliar_classificadores_binarios_otimizados()`.\n"
   ]
  },
  {
   "cell_type": "markdown",
   "id": "2f183ef9",
   "metadata": {},
   "source": [
    "###### ajustar o path"
   ]
  },
  {
   "cell_type": "code",
   "execution_count": 1,
   "id": "3b4940f9",
   "metadata": {},
   "outputs": [],
   "source": [
    "# HIDE\n",
    "import sys\n",
    "import pathlib\n",
    "\n",
    "path = pathlib.Path().resolve()\n",
    "while path.name != 'student_perfomance_tcc' and path != path.parent:\n",
    "    path = path.parent\n",
    "\n",
    "# Adicionar a raiz ao sys.path para importar o módulo\n",
    "if str(path) not in sys.path:\n",
    "    sys.path.append(str(path))\n",
    "\n",
    "from ajustar_path import adicionar_modulos_ao_path\n",
    "\n",
    "# Adiciona a pasta 'modulos' ao path\n",
    "adicionar_modulos_ao_path()"
   ]
  },
  {
   "cell_type": "markdown",
   "id": "546afcae",
   "metadata": {},
   "source": [
    "# 1. Importação e setup"
   ]
  },
  {
   "cell_type": "code",
   "execution_count": 2,
   "id": "03678546",
   "metadata": {},
   "outputs": [],
   "source": [
    "#Importação dos Módulos e Funções Desenvolvidos\n",
    "\n",
    "from modulos.pre_modelagem import preparar_treino_e_teste,importar_base\n",
    "\n",
    "from modulos.modelagem import (avaliar_classificadores_binarios_otimizados,\n",
    "                               comparar_resultados_classificacao, verificar_overfitting)\n",
    "\n",
    "from modulos.documentar_resultados import exportar_df_para_latex\n",
    "\n",
    "# Importação de bibliotecas padrão\n",
    "import pandas as pd\n",
    "import numpy as np\n",
    "\n",
    "from sklearn.linear_model import LogisticRegression\n",
    "from sklearn.tree import DecisionTreeClassifier\n",
    "from sklearn.ensemble import RandomForestClassifier, AdaBoostClassifier\n",
    "from sklearn.svm import SVC\n",
    "\n",
    "materia = 'portugues'\n",
    "\n",
    "# Configurações do Pandas para exibir todas as linhas e colunas no DataFrame \n",
    "# para inspeção detalhada dos dados no Jupyter Notebook\n",
    "\n",
    "pd.set_option('display.max_rows', None)\n",
    "pd.set_option('display.max_columns', None)\n",
    "\n",
    "import warnings\n",
    "\n",
    "# Ignora todos os warnings\n",
    "warnings.filterwarnings('ignore')"
   ]
  },
  {
   "cell_type": "code",
   "execution_count": 3,
   "id": "49130f3a",
   "metadata": {},
   "outputs": [],
   "source": [
    "#Importar conjunto de treino e teste\n",
    "df_treino = pd.read_csv('data_csvs\\dados_treino_portugues_rs42.csv')\n",
    "df_teste = pd.read_csv('data_csvs\\dados_teste_portugues_rs42.csv')"
   ]
  },
  {
   "cell_type": "code",
   "execution_count": 4,
   "id": "b669a21a",
   "metadata": {},
   "outputs": [
    {
     "data": {
      "text/plain": [
       "Index(['escola', 'genero', 'idade', 'endereco', 'tamanho_familia',\n",
       "       'status_parental', 'escolaridade_mae', 'escolaridade_pai',\n",
       "       'profissao_mae', 'profissao_pai', 'motivo_escolha_escola',\n",
       "       'responsavel_legal', 'tempo_transporte', 'tempo_estudo', 'reprovacoes',\n",
       "       'apoio_escolar', 'apoio_familiar', 'aulas_particulares',\n",
       "       'atividades_extracurriculares', 'frequentou_creche',\n",
       "       'interesse_ensino_superior', 'acesso_internet',\n",
       "       'relacionamento_romantico', 'relacao_familiar', 'tempo_livre',\n",
       "       'frequencia_saidas', 'alcool_dias_uteis', 'alcool_fim_semana', 'saude',\n",
       "       'faltas', 'nota1', 'nota2', 'nota_final', 'aprovacao'],\n",
       "      dtype='object')"
      ]
     },
     "execution_count": 4,
     "metadata": {},
     "output_type": "execute_result"
    }
   ],
   "source": [
    "df_treino.columns"
   ]
  },
  {
   "cell_type": "markdown",
   "id": "cb797d38",
   "metadata": {},
   "source": [
    "# 2. Recursos Iniciais"
   ]
  },
  {
   "cell_type": "markdown",
   "id": "92020787",
   "metadata": {},
   "source": [
    "## 2.1 Classificadores Utilizados Inicialmente"
   ]
  },
  {
   "cell_type": "code",
   "execution_count": 5,
   "id": "14f0a085",
   "metadata": {},
   "outputs": [],
   "source": [
    "classificadores_globais = {\n",
    "    \"Logistic Regression\": LogisticRegression(random_state=42, max_iter=1000),\n",
    "    \"Decision Tree\": DecisionTreeClassifier(random_state=42),\n",
    "    \"Random Forest\": RandomForestClassifier(random_state=42),\n",
    "    \"AdaBoost\": AdaBoostClassifier(random_state=42),\n",
    "    \"SVM\": SVC(probability=True, random_state=42)\n",
    "}\n"
   ]
  },
  {
   "cell_type": "markdown",
   "id": "e9bca63b",
   "metadata": {},
   "source": [
    "## 2.2 Espaços de Busca Utilizados (GridSearchCV)\n",
    "\n",
    "Abaixo estão os `param_spaces` definidos manualmente para cada modelo:\n",
    "\n",
    "- **Decision Tree**\n",
    "- **Random Forest**\n",
    "- **AdaBoost**\n",
    "- **Logistic Regression**\n",
    "- **Suport Vector Machine**"
   ]
  },
  {
   "cell_type": "code",
   "execution_count": 6,
   "id": "f85f7a3f",
   "metadata": {},
   "outputs": [],
   "source": [
    "param_spaces = {\n",
    "    \"Decision Tree\": {\n",
    "        \"criterion\": [\"gini\", \"entropy\"],\n",
    "        \"max_depth\": [3, 5, 10, None],\n",
    "        \"min_samples_split\": [2, 5, 10],\n",
    "        \"min_samples_leaf\": [1, 2, 4]\n",
    "    },\n",
    "    \"Random Forest\": {\n",
    "        \"n_estimators\": [50, 100, 200],\n",
    "        \"max_depth\": [None, 5, 10],\n",
    "        \"min_samples_split\": [2, 5],\n",
    "        \"min_samples_leaf\": [1, 2],\n",
    "        \"max_features\": [\"sqrt\", \"log2\"]\n",
    "    },\n",
    "    \"AdaBoost\": {\n",
    "        \"n_estimators\": [50, 100, 200],\n",
    "        \"learning_rate\": [0.01, 0.1, 1.0],\n",
    "        \"algorithm\": [\"SAMME\", \"SAMME.R\"]\n",
    "    },\n",
    "    \"Logistic Regression\": {\n",
    "        \"penalty\": [\"l2\"],\n",
    "        \"C\": [0.01, 0.1, 1, 10],\n",
    "        \"solver\": [\"lbfgs\"],\n",
    "        \"class_weight\": [None, \"balanced\"]\n",
    "    },\n",
    "    \"SVM\": {\n",
    "        \"C\": [0.1, 1, 10],\n",
    "        \"kernel\": [\"linear\", \"rbf\"],\n",
    "        \"gamma\": [\"scale\", \"auto\"]\n",
    "    }\n",
    "}\n",
    "\n"
   ]
  },
  {
   "cell_type": "markdown",
   "id": "c6df4e5d",
   "metadata": {},
   "source": [
    "## 3. Seleção de Atributos\n",
    "\n",
    "As seleções de variáveis seguiram três estratégias principais:\n",
    "\n",
    "- **Regressão Linear com p-valor**\n",
    "- **Testes estatísticos inferenciais (Kruskal, Spearman, Cramér’s V)**\n",
    "- **Análise Exploratória (EDA)**\n",
    "\n",
    "Para simplificação, os modelos otimizados foram testados com o seguinte conjunto final:\n"
   ]
  },
  {
   "cell_type": "code",
   "execution_count": 7,
   "id": "b4049bee",
   "metadata": {},
   "outputs": [],
   "source": [
    "#Regressão Linear com p-valor\n",
    "\n",
    "selecao_atributos_regressao = [\n",
    "    'escola',\n",
    "    'tempo_estudo',\n",
    "    'interesse_ensino_superior',\n",
    "    'reprovacoes',\n",
    "    'apoio_escolar',\n",
    "    'saude',\n",
    "    'idade',\n",
    "    'relacao_familiar',\n",
    "    'relacionamento_romantico'\n",
    "]\n",
    "\n",
    "#Testes Estatísticos \n",
    "selecao_inferencia = [\n",
    "    'alcool_dias_uteis', 'alcool_fim_semana', 'endereco', 'escola',\n",
    "    'escolaridade_mae', 'escolaridade_pai', 'frequencia_saidas',\n",
    "    'interesse_ensino_superior', 'motivo_escolha_escola', 'reprovacoes',\n",
    "    'relacao_familiar', 'saude', 'tempo_estudo', 'tempo_livre',\n",
    "    'tempo_transporte', 'faltas'\n",
    "]\n",
    "\n",
    "# com base na EDA\n",
    "selecao_baseada_em_eda_por = [\n",
    "    \"faltas\", \"idade\",\n",
    "    \"reprovacoes\", \"tempo_estudo\", \"interesse_ensino_superior\", \"escolaridade_mae\",\n",
    "    \"alcool_dias_uteis\", \"apoio_escolar\", \"frequencia_saidas\", \"escola\",\n",
    "    \"apoio_familiar\", \"relacao_familiar\", \"acesso_internet\",\n",
    "    \"genero\", \"atividades_extracurriculares\"]\n",
    "\n"
   ]
  },
  {
   "cell_type": "markdown",
   "id": "e083b5da",
   "metadata": {},
   "source": [
    "# 4. Resultados Observados\n",
    "\n",
    "Os resultados a seguir comparam os modelos com e sem otimização e/ou balanceamento.\n"
   ]
  },
  {
   "cell_type": "markdown",
   "id": "ae5905d3",
   "metadata": {},
   "source": [
    "## 4.1 Metodologia de seleção de Atributos - sem seleção de Atributos"
   ]
  },
  {
   "cell_type": "markdown",
   "id": "fe2c403c",
   "metadata": {},
   "source": [
    "Nesta primeira etapa, foram considerados todos os atributos disponíveis, excetuando-se os diretamente ligados à nota (nota1, nota2, nota_final). A modelagem foi conduzida com e sem balanceamento das classes (SMOTE-Tomek), e com e sem otimização de hiperparâmetros via GridSearchCV.\n",
    "\n",
    "O objetivo foi estabelecer uma linha de base para comparação com as demais abordagens de seleção de atributos."
   ]
  },
  {
   "cell_type": "code",
   "execution_count": 8,
   "id": "e263ec1e",
   "metadata": {},
   "outputs": [],
   "source": [
    "# Pre-processamento\n",
    "\n",
    "X_train, X_test, y_train, y_test, scaler, imputer = preparar_treino_e_teste(\n",
    "    df_train=df_treino,\n",
    "    df_test=df_teste,\n",
    "    target='aprovacao',\n",
    "    drop_notas=True,\n",
    "    scaling=True\n",
    ")"
   ]
  },
  {
   "cell_type": "markdown",
   "id": "cc43feb4",
   "metadata": {},
   "source": [
    "#### **Modelos mais bem avaliados inicialmente**"
   ]
  },
  {
   "cell_type": "markdown",
   "id": "c91b2c7f",
   "metadata": {},
   "source": [
    "#### **Destaques dos resultados**\n",
    "\n",
    "- O modelo **AdaBoost sem otimização** apresentou o melhor desempenho bruto na predição da classe minoritária (`Reprovado`), com `F1 Score (Reprovado)` = 0.455 e `F1 Score (Macro)` = 0.693 no conjunto de teste. No entanto, apresentou forte indício de **overfitting**, com deltas positivos expressivos na comparação com a validação cruzada.\n",
    "\n",
    "- O modelo **Decision Tree com otimização** demonstrou o melhor equilíbrio entre desempenho e generalização, com `F1 Score (Reprovado)` = 0.400, `F1 Score (Macro)` = 0.645 e AUC = 0.740. Os deltas foram moderados, o que indica maior confiabilidade para aplicação prática.\n",
    "\n",
    "- A **Random Forest sem otimização** alcançou o maior valor de AUC (0.833), mas teve desempenho inferior em métricas voltadas à classe minoritária. Após a otimização, houve leve queda no `F1 Score`, sugerindo que a versão padrão se mostrou mais robusta nesse cenário.\n",
    "\n",
    "- A **Regressão Logística**, embora não tenha apresentado os melhores resultados em termos absolutos de F1, destacou-se pela **consistência** e interpretabilidade. Foi considerada um modelo base confiável para explicação dos fatores preditivos.\n"
   ]
  },
  {
   "cell_type": "markdown",
   "id": "8e0b462c",
   "metadata": {},
   "source": [
    "#### **Modelos otimizados** "
   ]
  },
  {
   "cell_type": "markdown",
   "id": "3f86ba70",
   "metadata": {},
   "source": [
    "\n",
    "\n",
    "**Tabela – Melhores Parâmetros Encontrados após Otimização**\n",
    "\n",
    "| Modelo              | Melhores Parâmetros                                                                 |\n",
    "|---------------------|--------------------------------------------------------------------------------------|\n",
    "| Logistic Regression | `{'C': 0.01, 'class_weight': 'balanced', 'penalty': 'l2', 'solver': 'lbfgs'}`       |\n",
    "| Decision Tree       | `{'criterion': 'gini', 'max_depth': 10, 'min_samples_leaf': 4, 'min_samples_split': 2}` |\n",
    "| Random Forest       | `{'max_depth': 10, 'max_features': 'log2', 'min_samples_leaf': 1, 'min_samples_split': 2, 'n_estimators': 50}` |\n",
    "| AdaBoost            | `{'algorithm': 'SAMME', 'learning_rate': 1.0, 'n_estimators': 100}`                 |\n",
    "| SVM                 | `{'C': 10, 'gamma': 'scale', 'kernel': 'rbf'}`                                      |\n",
    "\n",
    "\n",
    "##### **Efeitos da Otimização de Hiperparâmetros**\n",
    "\n",
    "A otimização de hiperparâmetros trouxe ganhos relevantes para a maioria dos modelos, em especial:\n",
    "\n",
    "- **Logistic Regression**: houve aumento significativo no `Recall(0)` (de 0.20 para 0.633) e no `F1 Score (Reprovado)` (de 0.279 para 0.463), com estabilidade nos demais indicadores. A versão otimizada foi a que apresentou o melhor equilíbrio entre desempenho e interpretabilidade.\n",
    "\n",
    "- **Decision Tree**: melhoria substancial na AUC ROC (de 0.594 para 0.740) e leve avanço no `F1 Score`, corrigindo o underfitting identificado na versão base.\n",
    "\n",
    "- **AdaBoost**: a versão otimizada reduziu o overfitting observado na versão base, com leve queda no `F1 Score (Reprovado)`, mas ganhos em estabilidade e AUC (0.798).\n",
    "\n",
    "- **SVM**: também apresentou melhora no `F1 Score` (de 0.061 para 0.340), eliminando o cenário de underfitting severo da versão base, com manutenção do alto AUC.\n",
    "\n",
    "- **Random Forest**: a otimização trouxe leve piora no `F1 Score (Reprovado)` (de 0.250 para 0.216), com pequenas flutuações nos demais indicadores. A versão sem otimização foi mantida como referência.\n",
    "\n",
    "Com base nessa análise, os seguintes modelos otimizados foram considerados os mais promissores:\n",
    "\n",
    "- Logistic Regression (`F1 Score (Reprovado)` = 0.463, AUC = 0.827)\n",
    "- Decision Tree (`F1 Score (Reprovado)` = 0.400, AUC = 0.740)\n",
    "- AdaBoost (`F1 Score (Reprovado)` = 0.356, AUC = 0.798)\n"
   ]
  },
  {
   "cell_type": "markdown",
   "id": "f6b3e826",
   "metadata": {},
   "source": [
    "##### **Comparativo Final – Melhores Resultados com e sem Otimização**\n",
    "\n",
    "| Modelo                      | F1 (Reprovado) | F1 (Macro) | AUC ROC | Δ F1 Macro | Diagnóstico         |\n",
    "|----------------------------|----------------|------------|---------|------------|---------------------|\n",
    "| Logistic Regression (opt.) | 0.463          | 0.660      | 0.827   | +0.3%      | OK – Melhor geral   |\n",
    "| Decision Tree (opt.)       | 0.400          | 0.645      | 0.740   | -5.8%      | OK – Equilibrado    |\n",
    "| AdaBoost (opt.)            | 0.356          | 0.636      | 0.798   | -2.6%      | OK – Redução de overfitting |\n",
    "| Random Forest (base)       | 0.250          | 0.582      | 0.833   | +3.0%      | OK – AUC elevado    |\n",
    "| SVM (opt.)                 | 0.340          | 0.625      | 0.818   | -7.4%      | OK – Corrigiu underfitting |\n",
    "\n"
   ]
  },
  {
   "cell_type": "markdown",
   "id": "f70ca208",
   "metadata": {},
   "source": [
    "#### **Efeitos do Balanceamento dos Dados (SMOTE-Tomek)**\n",
    "\n",
    "A aplicação do balanceamento afetou significativamente o comportamento dos modelos, principalmente em termos de generalização. A seguir, destacam-se os principais efeitos observados:\n",
    "\n",
    "- **Queda acentuada no desempenho dos modelos no conjunto de teste**: todos os modelos apresentaram `F1 Score (Reprovado)` mais baixos e deltas negativos expressivos quando comparados à validação cruzada. Isso indica que os modelos passaram a superestimar a classe minoritária durante o treinamento balanceado, gerando **underfitting** ou **predições instáveis** no conjunto original.\n",
    "\n",
    "- **Δ F1 Score (Reprovado)** entre treino e teste variou de -50% a -75% em todos os casos, apontando uma **incapacidade dos modelos balanceados de generalizar corretamente** os padrões da base real.\n",
    "\n",
    "- **Modelos como SVM e Random Forest, antes estáveis**, tornaram-se extremamente suscetíveis ao desequilíbrio oculto após o balanceamento, com perda de até -74% no F1 da classe minoritária.\n",
    "\n",
    "- **A Regressão Logística, mesmo otimizada**, também sofreu considerável degradação na predição de reprovados, ainda que tenha mantido um bom AUC ROC e equilíbrio entre precisão e recall.\n",
    "\n",
    "Em resumo, **o balanceamento comprometeu a estabilidade geral dos modelos** neste cenário. Embora o `recall(0)` tenha aumentado em alguns casos, isso foi acompanhado por forte queda na precisão e na qualidade do `F1 Score`, inviabilizando sua adoção direta nesta base sem ajustes adicionais (como regularização, threshold tuning ou ensemble).\n",
    "\n",
    ">Todos os modelos com dados balanceados foram, portanto, classificados com **\"Underfitting Potencial / Teste Ruim\"** no diagnóstico final.\n"
   ]
  },
  {
   "cell_type": "markdown",
   "id": "035c2240",
   "metadata": {},
   "source": [
    "#### **Conclusão da Etapa Sem Seleção de Atributos**\n",
    "\n",
    "A otimização de hiperparâmetros se mostrou decisiva para melhorar o desempenho de modelos que apresentavam instabilidades ou limitação na predição da classe minoritária. A regressão logística passou a se destacar não apenas pela interpretabilidade, mas também pelo desempenho competitivo após ajustes finos. A árvore de decisão, inicialmente com desempenho fraco, foi significativamente aprimorada pela otimização, tornando-se um modelo equilibrado e confiável. AdaBoost e SVM também demonstraram avanços notáveis em estabilidade.\n",
    "\n",
    "Em contrapartida, a aplicação do balanceamento via SMOTE-Tomek resultou em degradação severa no desempenho dos modelos no conjunto de teste, gerando deltas negativos expressivos e comportamento típico de underfitting. Nenhum dos modelos balanceados foi selecionado para compor os finalistas desta etapa.\n",
    "\n",
    "Com base nas análises, os seguintes modelos sem seleção de atributos foram considerados os mais promissores:\n",
    "\n",
    "- **Logistic Regression (otimizado)**: melhor `F1 Score (Reprovado)` entre os modelos estáveis\n",
    "- **Decision Tree (otimizado)**: equilíbrio entre simplicidade e performance\n",
    "- **AdaBoost (otimizado)**: redução de overfitting com boa AUC\n",
    "- **Random Forest (base)**: maior AUC geral, embora com F1 inferior\n",
    "\n"
   ]
  },
  {
   "cell_type": "code",
   "execution_count": 9,
   "id": "e69efc8d",
   "metadata": {},
   "outputs": [],
   "source": [
    "melhores_classificadores_sem_selecao = {\n",
    "    \"Logistic Regression (otimizado)\": LogisticRegression(\n",
    "        C=0.01, class_weight='balanced', penalty='l2', solver='lbfgs', random_state=42, max_iter=1000\n",
    "    ),\n",
    "    \"Decision Tree (otimizado)\": DecisionTreeClassifier(\n",
    "        criterion='gini', max_depth=10, min_samples_leaf=4, min_samples_split=2, random_state=42\n",
    "    ),\n",
    "    \"AdaBoost (otimizado)\": AdaBoostClassifier(\n",
    "        algorithm='SAMME', learning_rate=1.0, n_estimators=100, random_state=42\n",
    "    ),\n",
    "    \"Random Forest (base)\": RandomForestClassifier(random_state=42)\n",
    "}"
   ]
  },
  {
   "cell_type": "markdown",
   "id": "037a4234",
   "metadata": {},
   "source": [
    "## 4.2 Metodologia de seleção de Atributos – baseados na EDA por Disciplina\n",
    "\n",
    "Nesta etapa, foram considerados os atributos identificados como mais relevantes a partir da análise exploratória individual da base de Português. A seleção contemplou variáveis quantitativas e categóricas com indícios de associação à aprovação, com base em correlações, boxplots, proporções e dispersões segmentadas. Foram excluídas as variáveis diretamente associadas à nota (`nota1`, `nota2`, `nota_final`) para evitar vazamento de informação.\n",
    "\n",
    "O conjunto final incluiu variáveis de desempenho anterior, perfil sociodemográfico, hábitos e apoio educacional. Os modelos foram treinados e avaliados sem e com otimização de hiperparâmetros, e posteriormente com dados balanceados via SMOTE-Tomek, mantendo validação cruzada estratificada com 5 folds.\n"
   ]
  },
  {
   "cell_type": "code",
   "execution_count": 10,
   "id": "e1dfc135",
   "metadata": {},
   "outputs": [],
   "source": [
    "# Pre-processamento\n",
    "\n",
    "X_train, X_test, y_train, y_test, scaler, imputer = preparar_treino_e_teste(\n",
    "    df_train=df_treino[selecao_baseada_em_eda_por+['aprovacao']],\n",
    "    df_test=df_teste[selecao_baseada_em_eda_por+['aprovacao']],\n",
    "    target='aprovacao',\n",
    "    drop_notas=True,\n",
    "    scaling=True\n",
    ")"
   ]
  },
  {
   "cell_type": "markdown",
   "id": "21775e48",
   "metadata": {},
   "source": [
    "#### **Modelos mais bem avaliados inicialmente**\n",
    "\n",
    "Nesta configuração inicial (sem otimização e sem balanceamento), os melhores resultados foram observados nos modelos AdaBoost e Random Forest:\n",
    "\n",
    "- **AdaBoost (sem otimização)** alcançou `F1 Score (Reprovado)` = 0.326 e `F1 Macro` = 0.621, com AUC = 0.778.\n",
    "- **Random Forest (sem otimização)** apresentou o maior AUC (0.822), embora com F1 moderado (0.279).\n",
    "- **SVM** obteve F1 muito baixo (0.171) apesar de AUC alto, indicando fragilidade na predição da classe minoritária.\n",
    "\n",
    "#### **Destaques dos resultados**\n",
    "\n",
    "- O modelo **Logistic Regression (sem otimização)** apresentou `F1 Score` modesto (0.244), mas alta AUC (0.804).\n",
    "- A **Decision Tree**, na versão sem otimização, teve desempenho fraco e instável (`F1 Reprovado` = 0.254).\n",
    "- Todos os modelos indicaram espaço para aprimoramento via otimização.\n"
   ]
  },
  {
   "cell_type": "markdown",
   "id": "09cec413",
   "metadata": {},
   "source": [
    "#### **Modelos otimizados**\n",
    "\n",
    "**Tabela – Melhores Parâmetros Encontrados após Otimização**\n",
    "\n",
    "| Modelo              | Melhores Parâmetros                                                                 |\n",
    "|---------------------|--------------------------------------------------------------------------------------|\n",
    "| Logistic Regression | `{'C': 0.01, 'class_weight': 'balanced', 'penalty': 'l2', 'solver': 'lbfgs'}`       |\n",
    "| Decision Tree       | `{'criterion': 'entropy', 'max_depth': 5, 'min_samples_leaf': 4, 'min_samples_split': 10}` |\n",
    "| Random Forest       | `{'max_depth': 10, 'max_features': 'sqrt', 'min_samples_leaf': 1, 'min_samples_split': 2, 'n_estimators': 50}` |\n",
    "| AdaBoost            | `{'algorithm': 'SAMME.R', 'learning_rate': 1.0, 'n_estimators': 200}`                |\n",
    "| SVM                 | `{'C': 10, 'gamma': 'scale', 'kernel': 'rbf'}`                                      |\n",
    "\n",
    "##### **Efeitos da Otimização de Hiperparâmetros**\n",
    "\n",
    "- **SVM (otimizado)** apresentou o maior ganho absoluto, com F1 Score (Reprovado) saltando de 0.171 para 0.400 e `F1 Macro` de 0.656.\n",
    "- **Logistic Regression (otimizado)** melhorou significativamente: `F1 Score (Reprovado)` = 0.500, mantendo AUC elevado (0.838).\n",
    "- **AdaBoost e Random Forest** apresentaram melhora moderada em F1, com estabilidade nas métricas de validação.\n",
    "- **Decision Tree** teve desempenho abaixo do esperado mesmo após otimização, indicando possível limitação do modelo com esse conjunto de atributos.\n",
    "\n",
    "##### **Comparativo Final – Melhores Resultados com e sem Otimização**\n",
    "\n",
    "| Modelo                      | F1 (Reprovado) | F1 (Macro) | AUC ROC | Δ F1 Macro | Diagnóstico                         |\n",
    "|----------------------------|----------------|------------|---------|------------|-------------------------------------|\n",
    "| Logistic Regression (opt.) | 0.500          | 0.681      | 0.838   | -1.4%      | OK – Equilibrado                    |\n",
    "| Decision Tree (opt.)       | 0.245          | 0.568      | 0.681   | -11.9%     | Underfitting Potencial              |\n",
    "| Random Forest (opt.)       | 0.286          | 0.600      | 0.836   | -5.4%      | OK – Estável                        |\n",
    "| AdaBoost (opt.)            | 0.311          | 0.611      | 0.774   | -9.6%      | Underfitting Potencial              |\n",
    "| SVM (opt.)                 | 0.400          | 0.656      | 0.779   | +4.0%      | OK – Ganhou estabilidade e recall   |\n"
   ]
  },
  {
   "cell_type": "markdown",
   "id": "0a5f9895",
   "metadata": {},
   "source": [
    "#### **Efeitos do Balanceamento dos Dados (SMOTE-Tomek)**\n",
    "\n",
    "A aplicação do balanceamento resultou em **perda significativa de desempenho** na predição da classe minoritária:\n",
    "\n",
    "- Todos os modelos apresentaram quedas superiores a 30% no `F1 Score (Reprovado)` em relação à validação cruzada.\n",
    "- O SVM (mesmo otimizado) caiu de 0.400 para 0.327 no F1, com AUC reduzido e delta de -34.7%.\n",
    "- A regressão logística sofreu um declínio de ~22% no F1 da classe minoritária, mesmo mantendo uma boa AUC.\n",
    "- Modelos como Random Forest e Decision Tree apresentaram sintomas claros de **underfitting**, mesmo com otimização.\n",
    "\n",
    "Dessa forma, o balanceamento **não será adotado nas próximas estratégias de seleção**, por comprometer a generalização dos modelos.\n"
   ]
  },
  {
   "cell_type": "markdown",
   "id": "43af0cda",
   "metadata": {},
   "source": [
    "#### **Conclusão da Etapa – baseados na EDA por Disciplina**\n",
    "\n",
    "A seleção de atributos com base em evidências exploratórias demonstrou ser uma estratégia eficaz para reduzir a dimensionalidade mantendo desempenho competitivo. A regressão logística otimizada foi o modelo de melhor desempenho geral, equilibrando interpretabilidade e métricas robustas.\n",
    "\n",
    "O SVM, apesar do baixo desempenho inicial, mostrou grande recuperação após otimização, destacando-se em estabilidade e recall. Modelos baseados em árvores apresentaram desempenho razoável, mas inferior às demais abordagens.\n",
    "\n",
    "Com base nos resultados sem balanceamento, os seguintes modelos foram considerados os melhores desta etapa:\n"
   ]
  },
  {
   "cell_type": "code",
   "execution_count": 11,
   "id": "1ee0a397",
   "metadata": {},
   "outputs": [],
   "source": [
    "\n",
    "melhores_classificadores_eda_por = {\n",
    "    \"Logistic Regression (otimizado)\": LogisticRegression(\n",
    "        C=0.01, class_weight='balanced', penalty='l2', solver='lbfgs', random_state=42, max_iter=1000\n",
    "    ),\n",
    "    \"SVM (otimizado)\": SVC(\n",
    "        C=10, gamma='scale', kernel='rbf', probability=True, random_state=42\n",
    "    ),\n",
    "    \"Random Forest (otimizado)\": RandomForestClassifier(\n",
    "        max_depth=10, max_features='sqrt', min_samples_leaf=1, min_samples_split=2, n_estimators=50, random_state=42\n",
    "    )\n",
    "}"
   ]
  },
  {
   "cell_type": "markdown",
   "id": "4cfe817b",
   "metadata": {},
   "source": [
    "## 4.3 Metodologia de seleção de Atributos – Regressão Linear com p-valor\n",
    "\n",
    "Nesta etapa, a seleção de atributos foi feita com base em regressões lineares, utilizando o valor de p para identificar variáveis estatisticamente significativas na predição da nota final. Apenas atributos com `p < 0.05` foram considerados, com o objetivo de isolar variáveis com forte associação estatística com o desempenho escolar.\n",
    "\n",
    "O subconjunto resultante foi utilizado para treinar os cinco classificadores principais, com e sem otimização de hiperparâmetros. Posteriormente, os modelos foram avaliados com validação cruzada estratificada e conjunto de teste.\n"
   ]
  },
  {
   "cell_type": "code",
   "execution_count": 12,
   "id": "68dd2a1d",
   "metadata": {},
   "outputs": [],
   "source": [
    "# Pre-processamento\n",
    "\n",
    "X_train, X_test, y_train, y_test, scaler, imputer = preparar_treino_e_teste(\n",
    "    df_train=df_treino[selecao_atributos_regressao+['aprovacao']],\n",
    "    df_test=df_teste[selecao_atributos_regressao+['aprovacao']],\n",
    "    target='aprovacao',\n",
    "    drop_notas=True,\n",
    "    scaling=True\n",
    ")"
   ]
  },
  {
   "cell_type": "markdown",
   "id": "5e1bb76b",
   "metadata": {},
   "source": [
    "#### **Modelos mais bem avaliados inicialmente**\n",
    "\n",
    "Entre os modelos sem otimização, os maiores destaques foram:\n",
    "\n",
    "- **AdaBoost (sem otimização)** obteve `F1 Score (Reprovado)` = 0.356 e `F1 Macro` = 0.636, com AUC de 0.804.\n",
    "- **Random Forest (sem otimização)** apresentou AUC competitivo (0.759), mas `F1 Score (Reprovado)` mais baixo (0.353).\n",
    "- **SVM (sem otimização)** teve desempenho fraco em recall (0.100), resultando em `F1 Score` = 0.176, mesmo com AUC alto (0.708).\n",
    "\n",
    "#### **Destaques dos resultados**\n",
    "\n",
    "- A **Logistic Regression (sem otimização)** se manteve estável em AUC (0.791), mas com `F1 Score (Reprovado)` = 0.244.\n",
    "- A **Decision Tree (sem otimização)** teve desempenho mediano, com F1 = 0.344 e instabilidade na validação.\n",
    "- Todos os modelos demonstraram espaço para melhorias via tuning de hiperparâmetros.\n"
   ]
  },
  {
   "cell_type": "markdown",
   "id": "05a96339",
   "metadata": {},
   "source": [
    "#### **Modelos otimizados**\n",
    "\n",
    "**Tabela – Melhores Parâmetros Encontrados após Otimização**\n",
    "\n",
    "| Modelo              | Melhores Parâmetros                                                                 |\n",
    "|---------------------|--------------------------------------------------------------------------------------|\n",
    "| Logistic Regression | `{'C': 0.01, 'class_weight': 'balanced', 'penalty': 'l2', 'solver': 'lbfgs'}`       |\n",
    "| Decision Tree       | `{'criterion': 'entropy', 'max_depth': 10, 'min_samples_leaf': 4, 'min_samples_split': 2}` |\n",
    "| Random Forest       | `{'max_depth': 5, 'max_features': 'sqrt', 'min_samples_leaf': 1, 'min_samples_split': 2, 'n_estimators': 200}` |\n",
    "| AdaBoost            | `{'algorithm': 'SAMME.R', 'learning_rate': 1.0, 'n_estimators': 200}`               |\n",
    "| SVM                 | `{'C': 10, 'gamma': 'auto', 'kernel': 'rbf'}`                                       |\n",
    "\n",
    "##### **Efeitos da Otimização de Hiperparâmetros**\n",
    "\n",
    "- **Logistic Regression (otimizada)** teve o maior ganho em desempenho absoluto (`F1 Reprovado` = 0.475), mantendo AUC alto (0.821) e estabilidade entre treino e validação.\n",
    "- **SVM (otimizado)** obteve melhora significativa em F1 (de 0.176 para 0.400) e estabilidade nas métricas com Δ positivo.\n",
    "- **Random Forest (otimizado)** apresentou `F1 Reprovado` = 0.308 com AUC = 0.821, mas menor recall que esperado.\n",
    "- **AdaBoost** manteve os mesmos hiperparâmetros após tuning, sem alterações nos resultados.\n",
    "- **Decision Tree (otimizada)** continuou abaixo dos demais modelos em desempenho, com sinais de subajuste.\n"
   ]
  },
  {
   "cell_type": "markdown",
   "id": "51312e00",
   "metadata": {},
   "source": [
    "\n",
    "##### **Comparativo Final – Melhores Resultados com e sem Otimização**\n",
    "\n",
    "| Modelo                      | F1 (Reprovado) | F1 (Macro) | AUC ROC | Δ F1 Macro | Diagnóstico                       |\n",
    "|----------------------------|----------------|------------|---------|------------|-----------------------------------|\n",
    "| Logistic Regression (opt.) | 0.475          | 0.670      | 0.821   | -2.9%      | OK – Melhor geral                 |\n",
    "| Decision Tree (opt.)       | 0.316          | 0.599      | 0.621   | -14.4%     | Underfitting Potencial            |\n",
    "| Random Forest (opt.)       | 0.308          | 0.615      | 0.821   | -2.1%      | OK – AUC e F1 estáveis            |\n",
    "| AdaBoost (opt.)            | 0.356          | 0.636      | 0.804   | -9.0%      | Underfitting Potencial            |\n",
    "| SVM (opt.)                 | 0.400          | 0.661      | 0.703   | +2.8%      | OK – Ganhou estabilidade e recall |\n"
   ]
  },
  {
   "cell_type": "markdown",
   "id": "c40f8be0",
   "metadata": {},
   "source": [
    "#### **Efeitos do Balanceamento dos Dados (SMOTE-Tomek)**\n",
    "\n",
    "O balanceamento de classes não foi aplicado nesta etapa, uma vez que os deltas e métricas obtidos na configuração original indicaram estabilidade geral nos melhores modelos otimizados.\n",
    "\n",
    "Sendo assim, os modelos foram comparados apenas em sua versão não balanceada, para preservar a fidelidade da distribuição real dos dados e evitar o viés artificial observado em etapas anteriores."
   ]
  },
  {
   "cell_type": "markdown",
   "id": "1fefdfac",
   "metadata": {},
   "source": [
    "#### **Conclusão da Etapa – Regressão Linear com p-valor**\n",
    "\n",
    "A seleção de atributos com base em regressões lineares se mostrou eficiente na redução do conjunto de variáveis com preservação da performance dos modelos. A regressão logística foi novamente o modelo de maior destaque, apresentando os melhores resultados em equilíbrio entre precisão, recall e estabilidade.\n",
    "\n",
    "O SVM também se beneficiou fortemente da otimização, ultrapassando o desempenho observado nas seleções anteriores. Modelos baseados em árvores apresentaram performance satisfatória, mas inferior aos demais.\n"
   ]
  },
  {
   "cell_type": "code",
   "execution_count": 13,
   "id": "5af20b6e",
   "metadata": {},
   "outputs": [],
   "source": [
    "melhores_classificadores_regressao = {\n",
    "    \"Logistic Regression (otimizado)\": LogisticRegression(\n",
    "        C=0.01, class_weight='balanced', penalty='l2', solver='lbfgs', random_state=42, max_iter=1000\n",
    "    ),\n",
    "    \"SVM (otimizado)\": SVC(\n",
    "        C=10, gamma='auto', kernel='rbf', probability=True, random_state=42\n",
    "    ),\n",
    "    \"Random Forest (otimizado)\": RandomForestClassifier(\n",
    "        max_depth=5, max_features='sqrt', min_samples_leaf=1, min_samples_split=2, n_estimators=200, random_state=42\n",
    "    )\n",
    "}"
   ]
  },
  {
   "cell_type": "markdown",
   "id": "62b1399e",
   "metadata": {},
   "source": [
    "## 4.4 Metodologia de seleção de Atributos - Testes Estatísticos\n",
    "\n",
    "Nesta etapa, a seleção de atributos foi realizada com base em testes estatísticos de associação entre variáveis explicativas e o desempenho acadêmico dos alunos.\n",
    "\n",
    "- Variáveis **ordinais** foram avaliadas por meio da **correlação de Spearman** e do **teste de Kruskal-Wallis**, em relação à variável contínua `nota_final`.\n",
    "- Variáveis **nominais** foram analisadas por meio do **teste qui-quadrado** e do **V de Cramér**, considerando a variável binária `aprovacao`.\n",
    "\n",
    "Combinando os dois conjuntos e eliminando duplicatas, obteve-se uma lista de 15 atributos com associação estatisticamente significativa ao desempenho. Além disso, a variável `faltas` foi incluída por razões pedagógicas e exploratórias, devido à sua importância reconhecida na literatura e ao impacto visualizado nas análises anteriores, apesar de não ter sido destacada pelos testes formais.\n",
    "\n",
    "Os modelos foram avaliados com e sem otimização de hiperparâmetros e validados por validação cruzada estratificada."
   ]
  },
  {
   "cell_type": "code",
   "execution_count": 14,
   "id": "12fa8edf",
   "metadata": {},
   "outputs": [],
   "source": [
    "# Pre-processamento\n",
    "\n",
    "X_train, X_test, y_train, y_test, scaler, imputer = preparar_treino_e_teste(\n",
    "    df_train=df_treino[selecao_inferencia+['aprovacao']],\n",
    "    df_test=df_teste[selecao_inferencia+['aprovacao']],\n",
    "    target='aprovacao',\n",
    "    drop_notas=True,\n",
    "    scaling=True\n",
    ")"
   ]
  },
  {
   "cell_type": "markdown",
   "id": "0d543426",
   "metadata": {},
   "source": [
    "#### **Modelos mais bem avaliados inicialmente**\n",
    "\n",
    "- **AdaBoost (sem otimização)** foi o melhor modelo inicial, com `F1 Score (Reprovado)` = 0.449, `F1 Macro` = 0.685 e AUC = 0.795.\n",
    "- **Logistic Regression (sem otimização)** também se destacou, com F1 = 0.400 e AUC de 0.812, embora com forte diferença entre teste e validação.\n",
    "- **Random Forest** e **Decision Tree**, na versão sem otimização, tiveram desempenho razoável, mas inferior às demais abordagens.\n",
    "\n",
    "#### **Destaques dos resultados**\n",
    "\n",
    "- O modelo **SVM (sem otimização)** novamente teve desempenho fraco em recall da classe minoritária (0.100) e F1 muito baixo (0.167), mesmo com AUC relativamente alto (0.787).\n",
    "- A **Logistic Regression** obteve bom AUC, mas apresentou evidência de overfitting (Δ F1 = +47.1%)."
   ]
  },
  {
   "cell_type": "markdown",
   "id": "0d35cd2d",
   "metadata": {},
   "source": [
    "#### **Modelos otimizados**\n",
    "\n",
    "**Tabela – Melhores Parâmetros Encontrados após Otimização**\n",
    "\n",
    "| Modelo              | Melhores Parâmetros                                                                 |\n",
    "|---------------------|--------------------------------------------------------------------------------------|\n",
    "| Logistic Regression | `{'C': 0.01, 'class_weight': 'balanced', 'penalty': 'l2', 'solver': 'lbfgs'}`       |\n",
    "| Decision Tree       | `{'criterion': 'entropy', 'max_depth': 5, 'min_samples_leaf': 2, 'min_samples_split': 10}` |\n",
    "| Random Forest       | `{'max_depth': 5, 'max_features': 'sqrt', 'min_samples_leaf': 2, 'min_samples_split': 2, 'n_estimators': 50}` |\n",
    "| AdaBoost            | `{'algorithm': 'SAMME.R', 'learning_rate': 1.0, 'n_estimators': 100}`               |\n",
    "| SVM                 | `{'C': 10, 'gamma': 'scale', 'kernel': 'rbf'}`                                      |\n",
    "\n",
    "##### **Efeitos da Otimização de Hiperparâmetros**\n",
    "\n",
    "- **Decision Tree (otimizada)** teve ganho considerável no F1 (de 0.345 para 0.441), com Δ moderado, superando a versão base.\n",
    "- **SVM (otimizado)** teve o maior avanço entre todos os modelos, saltando de F1 = 0.167 para 0.440 e `F1 Macro` = 0.679.\n",
    "- **Logistic Regression (otimizada)** manteve boa performance e aumentou o recall da classe 0 de 0.300 para 0.733.\n",
    "- **AdaBoost** manteve a mesma configuração e resultados entre versões otimizada e base.\n",
    "- **Random Forest (otimizada)** teve leve queda no F1 (de 0.333 para 0.300), mantendo bom AUC.\n"
   ]
  },
  {
   "cell_type": "markdown",
   "id": "c3b1f547",
   "metadata": {},
   "source": [
    "##### **Comparativo Final – Melhores Resultados com e sem Otimização**\n",
    "\n",
    "| Modelo                      | F1 (Reprovado) | F1 (Macro) | AUC ROC | Δ F1 Macro | Diagnóstico                       |\n",
    "|----------------------------|----------------|------------|---------|------------|-----------------------------------|\n",
    "| Logistic Regression (opt.) | 0.524          | 0.697      | 0.838   | +3.9%      | OK – Melhor geral                 |\n",
    "| Decision Tree (opt.)       | 0.441          | 0.670      | 0.754   | -0.6%      | OK – Ganho sólido pós otimização |\n",
    "| Random Forest (opt.)       | 0.300          | 0.610      | 0.844   | -1.6%      | OK – AUC elevado, F1 reduzido     |\n",
    "| AdaBoost (opt.)            | 0.449          | 0.685      | 0.780   | +3.6%      | OK – Boa estabilidade             |\n",
    "| SVM (opt.)                 | 0.440          | 0.679      | 0.781   | +1.5%      | OK – Recuperação importante       |\n"
   ]
  },
  {
   "cell_type": "markdown",
   "id": "4b804066",
   "metadata": {},
   "source": [
    "#### **Efeitos do Balanceamento dos Dados (SMOTE-Tomek)**\n",
    "\n",
    "O balanceamento de classes não foi aplicado nesta etapa. Com base nas etapas anteriores, a técnica SMOTE-Tomek foi considerada inadequada, dado o padrão consistente de queda de desempenho e aumento de underfitting observados.\n",
    "\n",
    "Assim, todos os modelos desta etapa foram avaliados apenas com os dados originais, respeitando a distribuição real de classes, o que resultou em ganhos de estabilidade nos melhores modelos.\n"
   ]
  },
  {
   "cell_type": "markdown",
   "id": "3c68e77e",
   "metadata": {},
   "source": [
    "#### **Conclusão da Etapa – Testes Estatísticos Inferenciais**\n",
    "\n",
    "A seleção de atributos com base em testes estatísticos permitiu identificar variáveis com associação significativa ao desempenho escolar, respeitando a natureza das variáveis (ordinais ou nominais). A adição da variável `faltas`, por critério analítico e educacional, contribuiu para enriquecer a análise sem comprometer a estabilidade dos modelos.\n",
    "\n",
    "Os resultados indicam que essa estratégia, embora mais enxuta e objetiva, manteve ou até superou o desempenho de seleções mais amplas. A regressão logística e o SVM continuaram se destacando, seguidos da árvore de decisão, que apresentou bom desempenho após otimização."
   ]
  },
  {
   "cell_type": "code",
   "execution_count": 15,
   "id": "9a2479b6",
   "metadata": {},
   "outputs": [],
   "source": [
    "\n",
    "melhores_classificadores_estatistica = {\n",
    "    \"Logistic Regression (otimizado)\": LogisticRegression(\n",
    "        C=0.01, class_weight='balanced', penalty='l2', solver='lbfgs', random_state=42, max_iter=1000\n",
    "    ),\n",
    "    \"SVM (otimizado)\": SVC(\n",
    "        C=10, gamma='scale', kernel='rbf', probability=True, random_state=42\n",
    "    ),\n",
    "    \"Decision Tree (otimizado)\": DecisionTreeClassifier(\n",
    "        criterion='entropy', max_depth=5, min_samples_leaf=2, min_samples_split=10, random_state=42\n",
    "    )\n",
    "}\n"
   ]
  },
  {
   "cell_type": "markdown",
   "id": "3cc5820d",
   "metadata": {},
   "source": [
    "## 4.5 Conclusão Geral das Estratégias de Modelagem\n",
    "\n",
    "Ao longo das quatro estratégias de seleção de atributos avaliadas neste estudo, observou-se um padrão consistente: a **regressão logística otimizada** destacou-se em todas as abordagens como o modelo mais estável, interpretável e eficaz para predição da aprovação escolar.\n",
    "\n",
    "A tabela abaixo resume os melhores resultados por estratégia:\n",
    "\n",
    "| Estratégia                         | Modelo                      | F1 (Reprovado) | F1 (Macro) | AUC ROC | Δ F1 Macro | Diagnóstico                         | Atributos Utilizados                                      |\n",
    "|------------------------------------|-----------------------------|----------------|------------|---------|------------|-------------------------------------|------------------------------------------------------------|\n",
    "| Sem Seleção de Atributos           | Logistic Regression (opt.) | 0.463          | 0.660      | 0.827   | +0.3%      | OK – Melhor equilíbrio geral        | Base completa sem nota                                     |\n",
    "| EDA por Disciplina                 | Logistic Regression (opt.) | 0.500          | 0.681      | 0.838   | -1.4%      | OK – Desempenho robusto e interpretável | 15 selecionados por análise exploratória               |\n",
    "| Regressão Linear com p-valor       | Logistic Regression (opt.) | 0.475          | 0.670      | 0.821   | -2.9%      | OK – Seleção estatística com boa generalização | 9 com p < 0.05 + idade                          |\n",
    "| Testes Estatísticos Inferenciais   | Logistic Regression (opt.) | 0.524          | 0.697      | 0.838   | +3.9%      | OK – Melhor desempenho geral        | 16 variáveis nominais/ordinais significativas + faltas     |\n",
    "\n",
    "### Análise Qualitativa\n",
    "\n",
    "- A **estratégia com testes estatísticos inferenciais** foi a que proporcionou o melhor desempenho geral (`F1 Reprovado` = 0.524), com o maior `F1 Macro` (0.697) e AUC empatado no topo (0.838), além de apresentar o maior ganho de estabilidade (Δ F1 positivo).\n",
    "\n",
    "- A **EDA por Disciplina** foi uma abordagem sólida, apresentando o melhor AUC e o segundo maior F1 Score. Indicou que uma seleção bem justificada por análise exploratória é competitiva com métodos inferenciais mais formais.\n",
    "\n",
    "- A **regressão linear com p-valor**, embora tenha utilizado um conjunto de atributos mais enxuto, entregou resultados robustos, com excelente equilíbrio entre desempenho e interpretabilidade.\n",
    "\n",
    "- A **abordagem sem seleção de atributos** serviu como linha de base, mostrando que a filtragem de variáveis, mesmo que leve, traz ganhos consistentes.\n"
   ]
  },
  {
   "cell_type": "markdown",
   "id": "cd2046bf",
   "metadata": {},
   "source": [
    "# 5. Processo realizado"
   ]
  },
  {
   "cell_type": "code",
   "execution_count": 21,
   "id": "4769148a",
   "metadata": {},
   "outputs": [],
   "source": [
    "melhor_modelo = { 'Regressão Logistica - seleção por inferência': \n",
    "                 LogisticRegression(C=0.01,                      # Regularização forte (evita overfitting)\n",
    "                                    class_weight='balanced',    # Compensa o desbalanceamento da base\n",
    "                                    penalty='l2',               # Penalização ridge (padrão)\n",
    "                                    solver='lbfgs',             # Solucionador eficiente para pequenos datasets\n",
    "                                    random_state=42,            # Reprodutibilidade\n",
    "                                    max_iter=1000               # Garante convergência\n",
    "                                    )}"
   ]
  },
  {
   "cell_type": "code",
   "execution_count": 22,
   "id": "9080ca36",
   "metadata": {},
   "outputs": [],
   "source": [
    "# Modelos selecionados para otimização\n",
    "classifiers = melhor_modelo #inserir os classificadores de interesse\n",
    "\n",
    "\n",
    "parametros = {}  #inserir os param_spaces de interesse\n",
    "\n",
    "balanceamento = False #ou True\n",
    "\n"
   ]
  },
  {
   "cell_type": "code",
   "execution_count": 23,
   "id": "71a287a3",
   "metadata": {},
   "outputs": [
    {
     "name": "stdout",
     "output_type": "stream",
     "text": [
      "\n",
      "Processando modelo: Regressão Logistica - seleção por inferência\n",
      "  Avaliando Regressão Logistica - seleção por inferência (sem otimização)...\n",
      "  Gerando curvas ROC, PR e matriz de confusão (modelo base)...\n"
     ]
    },
    {
     "data": {
      "image/png": "[encoded data removed]",
      "text/plain": [
       "<Figure size 1200x450 with 3 Axes>"
      ]
     },
     "metadata": {},
     "output_type": "display_data"
    }
   ],
   "source": [
    "\n",
    "df_resultados, df_cv, best_params_df = avaliar_classificadores_binarios_otimizados(\n",
    "    X_train, y_train,X_test,y_test,\n",
    "    classificadores=classifiers, #classificadores de interesse \n",
    "    param_spaces=None, #ou parametros\n",
    "    usar_balanceamento=balanceamento, #ou True\n",
    "    materia='portugues', #ou matemática\n",
    "    salvar = False #utilizar se desejar salvar imagens\n",
    ")"
   ]
  },
  {
   "cell_type": "code",
   "execution_count": 24,
   "id": "4ef72a52",
   "metadata": {},
   "outputs": [
    {
     "data": {
      "text/html": [
       "<div>\n",
       "<style scoped>\n",
       "    .dataframe tbody tr th:only-of-type {\n",
       "        vertical-align: middle;\n",
       "    }\n",
       "\n",
       "    .dataframe tbody tr th {\n",
       "        vertical-align: top;\n",
       "    }\n",
       "\n",
       "    .dataframe thead th {\n",
       "        text-align: right;\n",
       "    }\n",
       "</style>\n",
       "<table border=\"1\" class=\"dataframe\">\n",
       "  <thead>\n",
       "    <tr style=\"text-align: right;\">\n",
       "      <th></th>\n",
       "      <th>Modelo</th>\n",
       "      <th>Acurácia</th>\n",
       "      <th>Precisão(0)</th>\n",
       "      <th>Precisão(1)</th>\n",
       "      <th>Recall(0)</th>\n",
       "      <th>Recall(1)</th>\n",
       "      <th>F1 Score (Reprovado)</th>\n",
       "      <th>F1 Score (Macro)</th>\n",
       "      <th>AUC ROC</th>\n",
       "    </tr>\n",
       "  </thead>\n",
       "  <tbody>\n",
       "    <tr>\n",
       "      <th>0</th>\n",
       "      <td>Regressão Logistica - seleção por inferência S...</td>\n",
       "      <td>0.795</td>\n",
       "      <td>0.407</td>\n",
       "      <td>0.943</td>\n",
       "      <td>0.733</td>\n",
       "      <td>0.806</td>\n",
       "      <td>0.524</td>\n",
       "      <td>0.697</td>\n",
       "      <td>0.838</td>\n",
       "    </tr>\n",
       "  </tbody>\n",
       "</table>\n",
       "</div>"
      ],
      "text/plain": [
       "                                              Modelo  Acurácia  Precisão(0)  \\\n",
       "0  Regressão Logistica - seleção por inferência S...     0.795        0.407   \n",
       "\n",
       "   Precisão(1)  Recall(0)  Recall(1)  F1 Score (Reprovado)  F1 Score (Macro)  \\\n",
       "0        0.943      0.733      0.806                 0.524             0.697   \n",
       "\n",
       "   AUC ROC  \n",
       "0    0.838  "
      ]
     },
     "metadata": {},
     "output_type": "display_data"
    },
    {
     "data": {
      "text/html": [
       "<div>\n",
       "<style scoped>\n",
       "    .dataframe tbody tr th:only-of-type {\n",
       "        vertical-align: middle;\n",
       "    }\n",
       "\n",
       "    .dataframe tbody tr th {\n",
       "        vertical-align: top;\n",
       "    }\n",
       "\n",
       "    .dataframe thead th {\n",
       "        text-align: right;\n",
       "    }\n",
       "</style>\n",
       "<table border=\"1\" class=\"dataframe\">\n",
       "  <thead>\n",
       "    <tr style=\"text-align: right;\">\n",
       "      <th></th>\n",
       "      <th>Modelo</th>\n",
       "      <th>Validação Cruzada (AUC ROC)</th>\n",
       "      <th>Validação Cruzada (Acurácia)</th>\n",
       "      <th>Validação Cruzada (Precisão(0))</th>\n",
       "      <th>Validação Cruzada (Precisão(1))</th>\n",
       "      <th>Validação Cruzada (Recall(0))</th>\n",
       "      <th>Validação Cruzada (Recall(1))</th>\n",
       "      <th>Validação Cruzada (F1 Score (Reprovado))</th>\n",
       "      <th>Validação Cruzada (F1 Score (Macro))</th>\n",
       "    </tr>\n",
       "  </thead>\n",
       "  <tbody>\n",
       "    <tr>\n",
       "      <th>0</th>\n",
       "      <td>Regressão Logistica - seleção por inferência S...</td>\n",
       "      <td>0.82</td>\n",
       "      <td>0.769</td>\n",
       "      <td>0.377</td>\n",
       "      <td>0.937</td>\n",
       "      <td>0.714</td>\n",
       "      <td>0.779</td>\n",
       "      <td>0.491</td>\n",
       "      <td>0.671</td>\n",
       "    </tr>\n",
       "  </tbody>\n",
       "</table>\n",
       "</div>"
      ],
      "text/plain": [
       "                                              Modelo  \\\n",
       "0  Regressão Logistica - seleção por inferência S...   \n",
       "\n",
       "   Validação Cruzada (AUC ROC)  Validação Cruzada (Acurácia)  \\\n",
       "0                         0.82                         0.769   \n",
       "\n",
       "   Validação Cruzada (Precisão(0))  Validação Cruzada (Precisão(1))  \\\n",
       "0                            0.377                            0.937   \n",
       "\n",
       "   Validação Cruzada (Recall(0))  Validação Cruzada (Recall(1))  \\\n",
       "0                          0.714                          0.779   \n",
       "\n",
       "   Validação Cruzada (F1 Score (Reprovado))  \\\n",
       "0                                     0.491   \n",
       "\n",
       "   Validação Cruzada (F1 Score (Macro))  \n",
       "0                                 0.671  "
      ]
     },
     "metadata": {},
     "output_type": "display_data"
    },
    {
     "data": {
      "text/html": [
       "<div>\n",
       "<style scoped>\n",
       "    .dataframe tbody tr th:only-of-type {\n",
       "        vertical-align: middle;\n",
       "    }\n",
       "\n",
       "    .dataframe tbody tr th {\n",
       "        vertical-align: top;\n",
       "    }\n",
       "\n",
       "    .dataframe thead th {\n",
       "        text-align: right;\n",
       "    }\n",
       "</style>\n",
       "<table border=\"1\" class=\"dataframe\">\n",
       "  <thead>\n",
       "    <tr style=\"text-align: right;\">\n",
       "      <th></th>\n",
       "      <th>Modelo</th>\n",
       "      <th>Δ Acurácia</th>\n",
       "      <th>Δ Precisão(1)</th>\n",
       "      <th>Δ Precisão(0)</th>\n",
       "      <th>Δ Recall(1)</th>\n",
       "      <th>Δ Recall(0)</th>\n",
       "      <th>Δ F1 Score (Reprovado)</th>\n",
       "      <th>Δ F1 Score (Macro)</th>\n",
       "      <th>Δ AUC ROC</th>\n",
       "      <th>Média Δ (%)</th>\n",
       "      <th>Diagnóstico</th>\n",
       "    </tr>\n",
       "  </thead>\n",
       "  <tbody>\n",
       "    <tr>\n",
       "      <th>0</th>\n",
       "      <td>Regressão Logistica - seleção por inferência S...</td>\n",
       "      <td>3.4%</td>\n",
       "      <td>0.6%</td>\n",
       "      <td>8.0%</td>\n",
       "      <td>3.5%</td>\n",
       "      <td>2.7%</td>\n",
       "      <td>6.7%</td>\n",
       "      <td>3.9%</td>\n",
       "      <td>2.2%</td>\n",
       "      <td>3.9%</td>\n",
       "      <td>OK</td>\n",
       "    </tr>\n",
       "  </tbody>\n",
       "</table>\n",
       "</div>"
      ],
      "text/plain": [
       "                                              Modelo Δ Acurácia Δ Precisão(1)  \\\n",
       "0  Regressão Logistica - seleção por inferência S...       3.4%          0.6%   \n",
       "\n",
       "  Δ Precisão(0) Δ Recall(1) Δ Recall(0) Δ F1 Score (Reprovado)  \\\n",
       "0          8.0%        3.5%        2.7%                   6.7%   \n",
       "\n",
       "  Δ F1 Score (Macro) Δ AUC ROC Média Δ (%) Diagnóstico  \n",
       "0               3.9%      2.2%        3.9%          OK  "
      ]
     },
     "metadata": {},
     "output_type": "display_data"
    }
   ],
   "source": [
    "display(df_resultados)\n",
    "\n",
    "display(df_cv)\n",
    "\n",
    "relatorio_ajuste = verificar_overfitting(df_resultados, df_cv)\n",
    "\n",
    "display(relatorio_ajuste)\n",
    "     \n",
    "\n",
    "nome_df_resultados = '' #coloque o nome da tabela aqui\n",
    "nome_df_cv = '' #coloque o nome da tabela aqui\n"
   ]
  }
 ],
 "metadata": {
  "kernelspec": {
   "display_name": "venv",
   "language": "python",
   "name": "python3"
  },
  "language_info": {
   "codemirror_mode": {
    "name": "ipython",
    "version": 3
   },
   "file_extension": ".py",
   "mimetype": "text/x-python",
   "name": "python",
   "nbconvert_exporter": "python",
   "pygments_lexer": "ipython3",
   "version": "3.9.0"
  }
 },
 "nbformat": 4,
 "nbformat_minor": 5
}
