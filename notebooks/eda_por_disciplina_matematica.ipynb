{
 "cells": [
  {
   "cell_type": "markdown",
   "metadata": {
    "vscode": {
     "languageId": "plaintext"
    }
   },
   "source": [
    "#  **EDA por Disciplina**\n",
    "Este notebook apresenta uma análise exploratória detalhada da base de dados referente aos estudantes do ensino médio matriculados uma disciplina (Português ou Matemática) em duas escolas de portugal. O objetivo principal é identificar padrões e fatores que influenciam o desempenho acadêmico dos estudantes.\n",
    "\n",
    "## Fonte dos Dados\n",
    "\n",
    "Os dados utilizados nesta análise são provenientes do *UCI Machine Learning Repository*, especificamente do conjunto de dados \"*Student Performance*\". Este *dataset* contém informações sobre o desempenho acadêmico de estudantes do ensino médio em Portugal, incluindo notas em português e diversos fatores socioeconômicos.\n",
    "\n",
    "**Fonte Original**: \n",
    "\n",
    "***UCI Machine Learning Repository - Student Performance Dataset***: \n",
    "*https://archive.ics.uci.edu/dataset/320/student+performance*\n",
    "\n",
    "## Objetivos Gerais\n",
    "\n",
    "A análise realizada visa:\n",
    "\n",
    "1. Compreender o perfil dos alunos e suas características predominantes\n",
    "2. Investigar fatores que influenciam o desempenho acadêmico  \n",
    "3. Fornecer *insights* para intervenções educacionais baseadas em evidências"
   ]
  },
  {
   "cell_type": "markdown",
   "metadata": {},
   "source": [
    "###### ajustar o path"
   ]
  },
  {
   "cell_type": "code",
   "execution_count": null,
   "metadata": {},
   "outputs": [],
   "source": [
    "# HIDE\n",
    "import sys\n",
    "import pathlib\n",
    "\n",
    "path = pathlib.Path().resolve()\n",
    "while path.name != 'student_perfomance_tcc' and path != path.parent:\n",
    "    path = path.parent\n",
    "\n",
    "# Adicionar a raiz ao sys.path para importar o módulo\n",
    "if str(path) not in sys.path:\n",
    "    sys.path.append(str(path))\n",
    "\n",
    "from ajustar_path import adicionar_modulos_ao_path\n",
    "\n",
    "# Adiciona a pasta 'modulos' ao path\n",
    "adicionar_modulos_ao_path()"
   ]
  },
  {
   "cell_type": "markdown",
   "metadata": {},
   "source": [
    "## 1. Bibliotecas, Módulos e Configurações Iniciais"
   ]
  },
  {
   "cell_type": "code",
   "execution_count": null,
   "metadata": {},
   "outputs": [],
   "source": [
    "#Importação dos Módulos e Funções Desenvolvidos\n",
    "\n",
    "\n",
    "from pre_modelagem import importar_base\n",
    "from eda_functions import (\n",
    "    plot_distribuicao_quantitativas, custom_heatmap,\n",
    "    resumir_outliers, selecao_impacto_variaveis_categoricas,     \n",
    "    identificar_extremos_comparaveis,plot_top_diferencas_extremos, \n",
    "    plot_notas_faltas \n",
    ")\n",
    "\n",
    "from feature_selection import add_features_describe_pd,avaliacao_variacao_pontuacao_media_por_categoria\n",
    "\n",
    "\n",
    "import pandas as pd\n",
    "import numpy as np\n",
    "\n",
    "# Configurações do Pandas para exibir todas as linhas e colunas no DataFrame \n",
    "# para inspeção detalhada dos dados no Jupyter Notebook\n",
    "\n",
    "pd.set_option('display.max_rows', None)\n",
    "pd.set_option('display.max_columns', None)\n",
    "\n",
    "import warnings\n",
    "\n",
    "# Ignora todos os warnings\n",
    "warnings.filterwarnings('ignore')"
   ]
  },
  {
   "cell_type": "markdown",
   "metadata": {},
   "source": [
    "# 1. Visão geral e preparação dos dados"
   ]
  },
  {
   "cell_type": "code",
   "execution_count": null,
   "metadata": {},
   "outputs": [],
   "source": [
    "# Variáveis Globais\n",
    "materia = \"portugues\" #ou matemática\n",
    "cores = 'azul' #ou verde"
   ]
  },
  {
   "cell_type": "markdown",
   "metadata": {},
   "source": [
    "#### Conhecendo a Base"
   ]
  },
  {
   "cell_type": "code",
   "execution_count": null,
   "metadata": {},
   "outputs": [],
   "source": [
    "df = importar_base(materia)\n",
    "\n",
    "#Amostra do Data Frame\n",
    "\n",
    "df.head()"
   ]
  },
  {
   "cell_type": "code",
   "execution_count": null,
   "metadata": {},
   "outputs": [],
   "source": [
    "df.shape"
   ]
  },
  {
   "cell_type": "code",
   "execution_count": null,
   "metadata": {},
   "outputs": [],
   "source": [
    "df.info()"
   ]
  },
  {
   "cell_type": "code",
   "execution_count": null,
   "metadata": {},
   "outputs": [],
   "source": [
    "#Checagem de duplicatas\n",
    "df.duplicated().sum()"
   ]
  },
  {
   "cell_type": "markdown",
   "metadata": {},
   "source": [
    "#### **Observações Iniciais**\n",
    "\n",
    "> - 649 alunos matriculados em português\n",
    "> - Não a presença de dados faltantes ou linhas duplicadas na base\n",
    "> - Dtypes: int e str "
   ]
  },
  {
   "cell_type": "markdown",
   "metadata": {},
   "source": [
    "#### Variáveis Locais"
   ]
  },
  {
   "cell_type": "markdown",
   "metadata": {},
   "source": [
    "###### Agrupamento de Estatísticas"
   ]
  },
  {
   "cell_type": "code",
   "execution_count": null,
   "metadata": {},
   "outputs": [],
   "source": [
    "group_stats = {\n",
    "    \"Tendência Central\": [\"Média\", \"Mediana (50%)\", \"Moda\"],\n",
    "    \"Dispersão\": [\"Desvio Padrão\", \"Coeficiente de Variação (CV)\"],\n",
    "    \"Distribuição / Posição\": [\"Mínimo\", \"1º Quartil (25%)\", \"Mediana (50%)\", \"3º Quartil (75%)\", \"Máximo\"],\n",
    "    \"Normalidade\": [\"Shapiro-Wilk (p-valor)\"],\n",
    "}\n"
   ]
  },
  {
   "cell_type": "markdown",
   "metadata": {},
   "source": [
    "###### Notas"
   ]
  },
  {
   "cell_type": "code",
   "execution_count": null,
   "metadata": {},
   "outputs": [],
   "source": [
    "notas = ['nota1', 'nota2', 'nota_final']"
   ]
  },
  {
   "cell_type": "markdown",
   "metadata": {},
   "source": [
    "**Categorização de Atributos**\n",
    "\n",
    "- As variáveis foram categorizadas em três grupos principais:\n",
    "\n",
    "    >    1. **Variáveis Categóricas Nominais**: Atributos qualitativos sem ordem natural\n",
    "    >    2. **Variáveis Categóricas Ordinais**: Atributos qualitativos com ordem natural\n",
    "    >    3. **Variáveis Numéricas**: Atributos quantitativos discretos"
   ]
  },
  {
   "cell_type": "code",
   "execution_count": null,
   "metadata": {},
   "outputs": [],
   "source": [
    "variaveis_categoricas_nominais = [\n",
    "    'escola', \n",
    "    'genero', \n",
    "    'endereco', \n",
    "    'status_parental', \n",
    "    'profissao_mae', \n",
    "    'profissao_pai', \n",
    "    'motivo_escolha_escola', \n",
    "    'responsavel_legal', \n",
    "    'apoio_escolar', \n",
    "    'apoio_familiar', \n",
    "    'aulas_particulares', \n",
    "    'atividades_extracurriculares', \n",
    "    'frequentou_creche', \n",
    "    'interesse_ensino_superior', \n",
    "    'acesso_internet', \n",
    "    'relacionamento_romantico',\n",
    "    'tamanho_familia',\n",
    "\n",
    "    ]\n",
    "\n",
    "variaveis_categoricas_ordinais = [\n",
    "    'escolaridade_mae', \n",
    "    'escolaridade_pai', \n",
    "    'relacao_familiar',\n",
    "    'tempo_livre',      \n",
    "    'frequencia_saidas',\n",
    "    'saude',            \n",
    "    'tempo_estudo',     \n",
    "    'tempo_transporte',\n",
    "    'alcool_dias_uteis',\n",
    "    'alcool_fim_semana',\n",
    "    'reprovacoes' \n",
    "\n",
    "    ]\n",
    "\n",
    "variaveis_categoricas = variaveis_categoricas_nominais + variaveis_categoricas_ordinais\n",
    "\n",
    "variaveis_quantitativas = [\n",
    "    'idade', \n",
    "    'faltas', \n",
    "    'nota1', \n",
    "    'nota2', \n",
    "    'nota_final'\n",
    "]"
   ]
  },
  {
   "cell_type": "markdown",
   "metadata": {},
   "source": [
    "# 2. Variáveis Quantitativas"
   ]
  },
  {
   "cell_type": "code",
   "execution_count": null,
   "metadata": {},
   "outputs": [],
   "source": [
    "desc_q = add_features_describe_pd(df, variaveis_quantitativas)"
   ]
  },
  {
   "cell_type": "markdown",
   "metadata": {},
   "source": [
    "## 2.1 Estatísticas e Distribuições"
   ]
  },
  {
   "cell_type": "markdown",
   "metadata": {},
   "source": [
    "### 2.1.1 Medidas de Tendencia Central e Dispersão"
   ]
  },
  {
   "cell_type": "code",
   "execution_count": null,
   "metadata": {},
   "outputs": [],
   "source": [
    "mtcp = desc_q[group_stats[\"Tendência Central\"]+group_stats[\"Dispersão\"]].round(4)\n",
    "mtcp"
   ]
  },
  {
   "cell_type": "markdown",
   "metadata": {},
   "source": [
    "### 2.1.2 Distribuições, Normalidade e presença de outliers"
   ]
  },
  {
   "cell_type": "markdown",
   "metadata": {},
   "source": [
    "#### **Estatísticas**"
   ]
  },
  {
   "cell_type": "code",
   "execution_count": null,
   "metadata": {},
   "outputs": [],
   "source": [
    "stats_mddn =desc_q[group_stats[\"Distribuição / Posição\"]+group_stats[\"Normalidade\"]]\n",
    "stats_mddn"
   ]
  },
  {
   "cell_type": "markdown",
   "metadata": {},
   "source": [
    "##### **Presença de outliers**"
   ]
  },
  {
   "cell_type": "code",
   "execution_count": null,
   "metadata": {},
   "outputs": [],
   "source": [
    "#resumir outliers \n",
    "\n",
    "resumo_outliers = resumir_outliers(df = df[variaveis_quantitativas])\n"
   ]
  },
  {
   "cell_type": "markdown",
   "metadata": {},
   "source": [
    "> ### **Resumo Estatístico — Variáveis Quantitativas (Português)**\n",
    ">\n",
    "> - **Idade**: Distribuição concentrada (CV = 7,3%), com moda e mediana em 17 anos. Não segue normalidade.\n",
    "> - **Faltas**: Alta dispersão (CV > 120%), moda zero e forte assimetria. Muitos alunos faltam pouco, mas há outliers com até 32 faltas.\n",
    "> - **Notas (1, 2, Final)**: Distribuição levemente assimétrica, com variabilidade crescente da nota 1 à nota final. CV entre 24% e 27%.\n",
    "> - **Todas as variáveis rejeitam a normalidade** pelo teste de Shapiro-Wilk (p < 0.05).\n",
    "> - **Outliers:** Há a presença de outliers em todas as variáveis quantitativas.\n"
   ]
  },
  {
   "cell_type": "markdown",
   "metadata": {},
   "source": [
    "#### **Visualizações**"
   ]
  },
  {
   "cell_type": "markdown",
   "metadata": {},
   "source": [
    "**Distribuição das Notas**"
   ]
  },
  {
   "cell_type": "code",
   "execution_count": null,
   "metadata": {},
   "outputs": [],
   "source": [
    "plot_distribuicao_quantitativas(df,\n",
    "                                colunas=notas,\n",
    "                                mostrar_media=True,\n",
    "                                paleta=cores,\n",
    "                                materia=materia)\n",
    "                                "
   ]
  },
  {
   "cell_type": "code",
   "execution_count": null,
   "metadata": {},
   "outputs": [],
   "source": [
    "plot_distribuicao_quantitativas(df,\n",
    "                                colunas=notas,\n",
    "                                mostrar_media=True,\n",
    "                                paleta=cores,\n",
    "                                materia=materia,\n",
    "                                modo = 'hist')\n",
    "                                "
   ]
  },
  {
   "cell_type": "markdown",
   "metadata": {},
   "source": [
    ">### **Avaliação das Imagens - Notas (Português)**\n",
    "> A partir das imagens acima pôde-se observar:\n",
    ">\n",
    "> - A assimetria leve à esquerda é visível: as caudas inferiores são mais extensas nas três notas.\n",
    ">\n",
    "> - Os outliers inferiores são visíveis em todas as avaliações, com destaque na nota final, que não tem outliers superiores.\n",
    ">\n",
    "> - Nota Final mostra um deslocamento ainda mais acentuado da moda para valores abaixo da média.\n",
    ">\n",
    "> - A curva de densidade suavizada reforça que a maior parte dos alunos se concentra em torno da média (entre 10 e 13), com cauda inferior mais longa."
   ]
  },
  {
   "cell_type": "markdown",
   "metadata": {},
   "source": [
    "**Distribuição de Idade e Faltas**"
   ]
  },
  {
   "cell_type": "code",
   "execution_count": null,
   "metadata": {},
   "outputs": [],
   "source": [
    "plot_distribuicao_quantitativas(df,\n",
    "                                colunas=['idade','faltas'],\n",
    "                                mostrar_media=True,\n",
    "                                paleta=cores,\n",
    "                                materia=materia)"
   ]
  },
  {
   "cell_type": "markdown",
   "metadata": {},
   "source": [
    ">### **Avaliação das Imagens - Faltas e Idade (Português)**\n",
    ">\n",
    "> - Idade concentrada entre 16–18 anos → variável estável.\n",
    "> - Apenas 1 outlier (22 anos) → pode ser ignorado ou usado como controle.\n",
    "> - Faltas com assimetria acentuada à direita → minoria com comportamento extremo.\n",
    "> - Outliers > 15 faltas indicam possíveis casos de evasão parcial ou desengajamento.\n"
   ]
  },
  {
   "cell_type": "markdown",
   "metadata": {},
   "source": [
    "## 2.2 Correlações e Relações"
   ]
  },
  {
   "cell_type": "code",
   "execution_count": null,
   "metadata": {},
   "outputs": [],
   "source": [
    "corr_quant = df[variaveis_quantitativas].corr(method= 'spearman')\n"
   ]
  },
  {
   "cell_type": "code",
   "execution_count": null,
   "metadata": {},
   "outputs": [],
   "source": [
    "corr_quant"
   ]
  },
  {
   "cell_type": "code",
   "execution_count": null,
   "metadata": {},
   "outputs": [],
   "source": [
    "custom_heatmap(matriz_corr = corr_quant,\n",
    "               cores = cores,\n",
    "               n_arq ='heatmap_qualitativas',\n",
    "               titulo = 'Correlação de Spearman \\n Variáveis Quantitativas' ,\n",
    "               disciplina=materia)"
   ]
  },
  {
   "cell_type": "code",
   "execution_count": null,
   "metadata": {},
   "outputs": [],
   "source": [
    "plot_notas_faltas(df,cor = cores, dir = 'relacao_bivariada' , mat=materia,)"
   ]
  },
  {
   "cell_type": "markdown",
   "metadata": {},
   "source": [
    "> ### **Correlação e Relações entre Quantitativas — Português**\n",
    ">\n",
    ">## Resumo das Observações:\n",
    ">\n",
    "> - forte associação entre as notas, especialmente entre **nota2 e nota_final (ρ = 0.94)**.\n",
    "> - As correlações com faltas são ***fracas e negativas***, sendo mais pronunciada com nota_final (-0.16), indicando \n",
    ">   possível impacto de faltas sobre o desempenho.\n",
    "> - A idade mostra ***correlações próximas de zero***, podendo indicar uma neutralidade como fator explicativo.\n",
    "> - Os scatterplots confirmam visualmente esses padrões, com ***tendência linear crescente*** entre as notas e \n",
    ">   ***ligeira tendência decrescente***(não linear) entre faltas e nota final."
   ]
  },
  {
   "cell_type": "markdown",
   "metadata": {},
   "source": [
    "# 3. Variáveis Categóricas e Desempenho Estudantil"
   ]
  },
  {
   "cell_type": "markdown",
   "metadata": {},
   "source": [
    "## 3.1 Variáveis Categóricas Ordinais"
   ]
  },
  {
   "cell_type": "code",
   "execution_count": null,
   "metadata": {},
   "outputs": [],
   "source": [
    "desc_ord = add_features_describe_pd(df,variaveis_categoricas_ordinais,shapiro_values= False)"
   ]
  },
  {
   "cell_type": "code",
   "execution_count": null,
   "metadata": {},
   "outputs": [],
   "source": [
    "desc_ord"
   ]
  },
  {
   "cell_type": "code",
   "execution_count": null,
   "metadata": {},
   "outputs": [],
   "source": [
    "desc_ord_freq =add_features_describe_pd(df,variaveis_categoricas_ordinais,estudo_frequencia=True)\n",
    "desc_ord_freq"
   ]
  },
  {
   "cell_type": "markdown",
   "metadata": {},
   "source": [
    "### 3.1.1 Correlações"
   ]
  },
  {
   "cell_type": "code",
   "execution_count": null,
   "metadata": {},
   "outputs": [],
   "source": [
    "corr_ord = df[variaveis_categoricas_ordinais].corr(method= 'spearman')\n"
   ]
  },
  {
   "cell_type": "code",
   "execution_count": null,
   "metadata": {},
   "outputs": [],
   "source": [
    "corr_ord"
   ]
  },
  {
   "cell_type": "code",
   "execution_count": null,
   "metadata": {},
   "outputs": [],
   "source": [
    "custom_heatmap(matriz_corr = corr_ord,\n",
    "               cores = cores,\n",
    "               n_arq ='heatmap_ordinais',\n",
    "               titulo = 'Correlação de Spearman \\n Variáveis Categóricas Ordinais' ,\n",
    "               disciplina=materia)"
   ]
  },
  {
   "cell_type": "markdown",
   "metadata": {},
   "source": [
    "## 3.2 Variáveis Categóricas Nominais"
   ]
  },
  {
   "cell_type": "code",
   "execution_count": null,
   "metadata": {},
   "outputs": [],
   "source": [
    "desc_nom =add_features_describe_pd(df,variaveis_categoricas_nominais,estudo_frequencia=True)\n",
    "desc_nom"
   ]
  },
  {
   "cell_type": "markdown",
   "metadata": {},
   "source": [
    "## 3.3 Relação Categorica com Desempenho Escolar\n"
   ]
  },
  {
   "cell_type": "markdown",
   "metadata": {},
   "source": [
    "### 3.3.1 Distribuição por Categoria"
   ]
  },
  {
   "cell_type": "markdown",
   "metadata": {},
   "source": [
    "##### **Nota 1**"
   ]
  },
  {
   "cell_type": "code",
   "execution_count": null,
   "metadata": {},
   "outputs": [],
   "source": [
    "selecao_impacto_variaveis_categoricas(df, \n",
    "                                    variaveis_categoricas,\n",
    "                                    materia= materia,\n",
    "                                    paleta=cores,\n",
    "                                    coluna_avaliada='nota1'\n",
    "                                    )"
   ]
  },
  {
   "cell_type": "markdown",
   "metadata": {},
   "source": [
    "##### **Nota 2**"
   ]
  },
  {
   "cell_type": "code",
   "execution_count": null,
   "metadata": {},
   "outputs": [],
   "source": [
    "selecao_impacto_variaveis_categoricas(df, \n",
    "                                    variaveis_categoricas,\n",
    "                                    materia= materia,\n",
    "                                    paleta=cores,\n",
    "                                    coluna_avaliada='nota2')"
   ]
  },
  {
   "cell_type": "markdown",
   "metadata": {},
   "source": [
    "##### **Nota Final**"
   ]
  },
  {
   "cell_type": "code",
   "execution_count": null,
   "metadata": {},
   "outputs": [],
   "source": [
    "selecao_impacto_variaveis_categoricas(df, \n",
    "                                    variaveis_categoricas,\n",
    "                                    materia= materia,\n",
    "                                    paleta=cores,\n",
    "                                    coluna_avaliada='nota_final')"
   ]
  },
  {
   "cell_type": "markdown",
   "metadata": {},
   "source": [
    "##### **Faltas**"
   ]
  },
  {
   "cell_type": "code",
   "execution_count": null,
   "metadata": {},
   "outputs": [],
   "source": [
    "selecao_impacto_variaveis_categoricas(df, \n",
    "                                    variaveis_categoricas,\n",
    "                                    materia= materia,\n",
    "                                    paleta=cores,\n",
    "                                    coluna_avaliada='faltas')"
   ]
  },
  {
   "cell_type": "markdown",
   "metadata": {},
   "source": [
    "### 3.3.2 Correlação entre Variáveis Ordinais e Notas e Faltas"
   ]
  },
  {
   "cell_type": "code",
   "execution_count": null,
   "metadata": {},
   "outputs": [],
   "source": [
    "corr_ord = df[variaveis_categoricas_ordinais+notas+['faltas']].corr(method= 'spearman')"
   ]
  },
  {
   "cell_type": "code",
   "execution_count": null,
   "metadata": {},
   "outputs": [],
   "source": [
    "corr_long = corr_ord.where(np.tril(np.ones(corr_ord.shape), k=-1).astype(bool)).stack().reset_index()\n",
    "corr_long.columns = ['Notas e Faltas','Categoricas Ordinais', 'Correlação']"
   ]
  },
  {
   "cell_type": "code",
   "execution_count": null,
   "metadata": {},
   "outputs": [],
   "source": [
    "corr_ord_n = corr_long[corr_long['Notas e Faltas'].isin(['nota1', 'nota2', 'nota_final','faltas'])]\n",
    "\n",
    "heatmap_df = corr_ord_n.pivot(index='Categoricas Ordinais', columns='Notas e Faltas', values='Correlação')\n",
    "heatmap_df.dropna(inplace=True)"
   ]
  },
  {
   "cell_type": "code",
   "execution_count": null,
   "metadata": {},
   "outputs": [],
   "source": [
    "heatmap_df"
   ]
  },
  {
   "cell_type": "code",
   "execution_count": null,
   "metadata": {},
   "outputs": [],
   "source": [
    "custom_heatmap(matriz_corr = heatmap_df,\n",
    "               cores = cores,\n",
    "               n_arq ='heatmap_ordinais',\n",
    "              titulo = 'Correlação de Spearman' ,\n",
    "               disciplina=materia)"
   ]
  },
  {
   "cell_type": "markdown",
   "metadata": {},
   "source": [
    "### 3.3.2 Avaliação de Variáveis Categóricas com Base na Variação de Desempenho\n"
   ]
  },
  {
   "cell_type": "markdown",
   "metadata": {},
   "source": [
    "#### Metodologia"
   ]
  },
  {
   "cell_type": "markdown",
   "metadata": {},
   "source": [
    "\n",
    "\n",
    "*Para criação das tabelas da seção calculo-se um índice composto de perfilamento, combinando critérios de distribuição, diversidade e impacto na variável de interesse (nota final ou faltas). Os critérios avaliados foram:*\n",
    "\n",
    "1. Frequência mínima absoluta e relativa:\n",
    "A variável deve apresentar frequência mínima por categoria, ajustada ao tamanho da amostra e ao número total de categorias. Isso evita categorias muito raras.\n",
    "\n",
    "2. Entropia de Shannon (diversidade):\n",
    "Mede o grau de equilíbrio entre as categorias. Quanto mais equilibradas, maior a entropia e, potencialmente, maior a capacidade da variável de discriminar padrões.\n",
    "\n",
    "3. Gap de desempenho entre categorias:\n",
    "Representa a diferença entre as médias da variável de interesse (ex.: nota final) entre as categorias da variável avaliada. Quanto maior essa diferença, maior a capacidade da variável em segmentar o desempenho.\n",
    "\n",
    "5. Score de Perfil Composto:\n",
    "Índice final é calculado como a média ponderada da entropia normalizada e do gap de desempenho, permitindo ordenar as variáveis mais informativas.\n",
    "\n",
    "6. Alertas de dispersão:\n",
    "Variáveis com alta dispersão (> 80%) e muitas categorias são sinalizadas, pois podem ser menos interpretáveis ou sofrer com sparsidade em modelos.\n",
    "\n",
    "Este método permite filtrar automaticamente variáveis nominais relevantes para auxiliar na seleção de atributos qualitativos de interesse."
   ]
  },
  {
   "cell_type": "markdown",
   "metadata": {},
   "source": [
    "#### **Desempenho - Notas**"
   ]
  },
  {
   "cell_type": "markdown",
   "metadata": {},
   "source": [
    "##### **Nota 1**"
   ]
  },
  {
   "cell_type": "code",
   "execution_count": null,
   "metadata": {},
   "outputs": [],
   "source": [
    "avaliacao_variacao_pontuacao_media_por_categoria(df,variaveis_categoricas,coluna_avaliada='nota1')"
   ]
  },
  {
   "cell_type": "markdown",
   "metadata": {},
   "source": [
    "##### **Nota 2**"
   ]
  },
  {
   "cell_type": "code",
   "execution_count": null,
   "metadata": {},
   "outputs": [],
   "source": [
    "avaliacao_variacao_pontuacao_media_por_categoria(df,variaveis_categoricas,coluna_avaliada='nota2')"
   ]
  },
  {
   "cell_type": "markdown",
   "metadata": {},
   "source": [
    "##### **Nota Final**"
   ]
  },
  {
   "cell_type": "code",
   "execution_count": null,
   "metadata": {},
   "outputs": [],
   "source": [
    "avaliacao_variacao_pontuacao_media_por_categoria(df,variaveis_categoricas)"
   ]
  },
  {
   "cell_type": "markdown",
   "metadata": {},
   "source": [
    "##### **Média das 3 Notas** "
   ]
  },
  {
   "cell_type": "code",
   "execution_count": null,
   "metadata": {},
   "outputs": [],
   "source": [
    "df_copy = df.copy()\n",
    "df_copy['media_notas'] = (df_copy['nota1'] + df_copy['nota2'] + df_copy['nota_final'])/3\n",
    "\n",
    "avaliacao_variacao_pontuacao_media_por_categoria(df_copy,variaveis_categoricas,coluna_avaliada='media_notas')"
   ]
  },
  {
   "cell_type": "markdown",
   "metadata": {},
   "source": [
    "**Faltas**"
   ]
  },
  {
   "cell_type": "code",
   "execution_count": null,
   "metadata": {},
   "outputs": [],
   "source": [
    "avaliacao_variacao_pontuacao_media_por_categoria(df,variaveis_categoricas,coluna_avaliada='faltas')"
   ]
  },
  {
   "cell_type": "markdown",
   "metadata": {},
   "source": [
    "# 4. Análise de Outliers e Perfil de Grupos"
   ]
  },
  {
   "cell_type": "markdown",
   "metadata": {},
   "source": [
    "## 4.1 Resumo de Outiliers"
   ]
  },
  {
   "cell_type": "markdown",
   "metadata": {},
   "source": [
    "### 4.1.1 Resumo Descritivo dos Dados Avaliados"
   ]
  },
  {
   "cell_type": "markdown",
   "metadata": {},
   "source": [
    "> Os outliers foram identificados usando o método do Intervalo Interquartil (IQR):\n",
    ">   - Limite Inferior = Q1 - 1.5 * IQR\n",
    ">   - Limite Superior = Q3 + 1.5 * IQR"
   ]
  },
  {
   "cell_type": "code",
   "execution_count": null,
   "metadata": {},
   "outputs": [],
   "source": [
    "# Converte valores numéricos armazenados como strings com vírgulas para floats\n",
    "resumo_outliers_numerico = resumo_outliers.applymap(\n",
    "    lambda x: float(str(x).replace(\",\", \".\")) if isinstance(x, str) and \"%\" not in x else x\n",
    ")"
   ]
  },
  {
   "cell_type": "markdown",
   "metadata": {},
   "source": [
    "### 4.1.2 Perfil dos Outliers\n",
    "\n"
   ]
  },
  {
   "cell_type": "markdown",
   "metadata": {},
   "source": [
    "##### **Levantamento de recursos para a análise**"
   ]
  },
  {
   "cell_type": "code",
   "execution_count": null,
   "metadata": {},
   "outputs": [],
   "source": [
    "variaveis_de_interesse = variaveis_categoricas + ['idade']"
   ]
  },
  {
   "cell_type": "code",
   "execution_count": null,
   "metadata": {},
   "outputs": [],
   "source": [
    "# Lista de variáveis com outliers\n",
    "outliers_index_list = resumo_outliers_numerico.index.tolist()"
   ]
  },
  {
   "cell_type": "code",
   "execution_count": null,
   "metadata": {},
   "outputs": [],
   "source": [
    "limites_outliers = {}\n",
    "\n",
    "for var in outliers_index_list:\n",
    "    out_baixo = resumo_outliers_numerico.loc[var, 'Outliers < L1']\n",
    "    out_alto = resumo_outliers_numerico.loc[var, 'Outliers > L3']\n",
    "\n",
    "    if out_baixo > 0 or out_alto > 0:\n",
    "        limites_outliers[var] = {\n",
    "            'lim_inf': float(resumo_outliers_numerico.loc[var, 'Limite Inferior (L1)']),\n",
    "            'lim_sup': float(resumo_outliers_numerico.loc[var, 'Limite Superior (L3)'])\n",
    "        }\n"
   ]
  },
  {
   "cell_type": "markdown",
   "metadata": {},
   "source": [
    "**Notas**"
   ]
  },
  {
   "cell_type": "markdown",
   "metadata": {},
   "source": [
    "##### **Perfil Outiliers - Nota1**"
   ]
  },
  {
   "cell_type": "markdown",
   "metadata": {},
   "source": [
    "###### **Nota 1 - Limite Inferior**"
   ]
  },
  {
   "cell_type": "code",
   "execution_count": null,
   "metadata": {},
   "outputs": [],
   "source": [
    "var = 'nota1'\n",
    "perfil = df[df[var] < limites_outliers[var]['lim_inf']]\n",
    "\n",
    "perfil = add_features_describe_pd(df=perfil,colunas=variaveis_de_interesse,estudo_frequencia=True)\n",
    "\n",
    "perfil"
   ]
  },
  {
   "cell_type": "markdown",
   "metadata": {},
   "source": [
    "###### **Nota 1 - Limite Superior**"
   ]
  },
  {
   "cell_type": "code",
   "execution_count": null,
   "metadata": {},
   "outputs": [],
   "source": [
    "var = 'nota1'\n",
    "perfil = df[df[var] > limites_outliers[var]['lim_sup']]\n",
    "\n",
    "perfil = add_features_describe_pd(df=perfil,colunas=variaveis_de_interesse,estudo_frequencia=True)\n",
    "\n",
    "perfil"
   ]
  },
  {
   "cell_type": "markdown",
   "metadata": {},
   "source": [
    "##### **Perfil Outiliers - Nota2**"
   ]
  },
  {
   "cell_type": "markdown",
   "metadata": {},
   "source": [
    "###### **Nota 2 - Limite Inferior**"
   ]
  },
  {
   "cell_type": "code",
   "execution_count": null,
   "metadata": {},
   "outputs": [],
   "source": [
    "var = 'nota2'\n",
    "\n",
    "perfil = df[df[var] < limites_outliers[var]['lim_inf']]\n",
    "      \n",
    "perfil = add_features_describe_pd(df= perfil\n",
    "                                ,colunas=variaveis_de_interesse,\n",
    "                                estudo_frequencia=True)\n",
    "\n",
    "perfil"
   ]
  },
  {
   "cell_type": "markdown",
   "metadata": {},
   "source": [
    "###### **Nota 2 - Limite Superior**"
   ]
  },
  {
   "cell_type": "code",
   "execution_count": null,
   "metadata": {},
   "outputs": [],
   "source": [
    "var = 'nota2'\n",
    "perfil = df[df[var] > limites_outliers[var]['lim_sup']]\n",
    "\n",
    "perfil = add_features_describe_pd(df=perfil,colunas=variaveis_de_interesse,estudo_frequencia=True)\n",
    "\n",
    "perfil"
   ]
  },
  {
   "cell_type": "markdown",
   "metadata": {},
   "source": [
    "##### **Perfil Outiliers - Nota Final**"
   ]
  },
  {
   "cell_type": "markdown",
   "metadata": {},
   "source": [
    "###### **Nota Final - Limite Inferior**"
   ]
  },
  {
   "cell_type": "code",
   "execution_count": null,
   "metadata": {},
   "outputs": [],
   "source": [
    "var = 'nota_final'\n",
    "perfil = df[df[var] < limites_outliers[var]['lim_inf']]\n",
    "\n",
    "perfil = add_features_describe_pd(df=perfil,colunas=variaveis_de_interesse,estudo_frequencia=True)\n",
    "\n",
    "perfil"
   ]
  },
  {
   "cell_type": "markdown",
   "metadata": {},
   "source": [
    "**Faltas**"
   ]
  },
  {
   "cell_type": "markdown",
   "metadata": {},
   "source": [
    "##### **Perfil Outiliers - Faltas**"
   ]
  },
  {
   "cell_type": "markdown",
   "metadata": {},
   "source": [
    "###### **Faltas - Limite Superior**"
   ]
  },
  {
   "cell_type": "code",
   "execution_count": null,
   "metadata": {},
   "outputs": [],
   "source": [
    "var = 'faltas'\n",
    "perfil = df[df[var] > limites_outliers[var]['lim_sup']]\n",
    "\n",
    "perfil = add_features_describe_pd(df=perfil,colunas=variaveis_de_interesse,estudo_frequencia=True)\n",
    "\n",
    "perfil"
   ]
  },
  {
   "cell_type": "markdown",
   "metadata": {},
   "source": [
    "## 4.4 Identificação de Diferenças de Perfil entre Grupos de Desempenho - Estudo com Base na Frequência de Categorias"
   ]
  },
  {
   "cell_type": "code",
   "execution_count": null,
   "metadata": {},
   "outputs": [],
   "source": [
    "df_dif, n_baixo, n_alto, q1_lim, q3_lim = identificar_extremos_comparaveis(\n",
    "    df, 'nota_final', variaveis_categoricas\n",
    ")"
   ]
  },
  {
   "cell_type": "code",
   "execution_count": null,
   "metadata": {},
   "outputs": [],
   "source": [
    "plot_top_diferencas_extremos(\n",
    "    df_diferencas=df_dif,\n",
    "    materia='portugues',  \n",
    "    q1_lim=q1_lim,\n",
    "    q3_lim=q3_lim,\n",
    "    n_baixo=n_baixo,\n",
    "    n_alto=n_alto,\n",
    "    top_n=10,  \n",
    "    diretorio='graficos_diferencas_perfil',\n",
    "    salvar=True\n",
    ")"
   ]
  },
  {
   "cell_type": "markdown",
   "metadata": {},
   "source": [
    "## 4.5 Identificação de Diferenças de Perfil entre Grupos - Aprovados vs Reprovados"
   ]
  },
  {
   "cell_type": "code",
   "execution_count": null,
   "metadata": {},
   "outputs": [],
   "source": [
    "resumo = df.groupby('aprovacao').agg(Contagem=('faltas', 'count'))\n",
    "resumo['Percentual (%)'] = (resumo['Contagem'] / resumo['Contagem'].sum() * 100).round(2)\n",
    "resumo.reset_index()\n",
    "\n"
   ]
  },
  {
   "cell_type": "code",
   "execution_count": null,
   "metadata": {},
   "outputs": [],
   "source": [
    "resumo = df.groupby('aprovacao').agg({\n",
    "    'nota1': ['mean', 'std', 'min', 'max'],\n",
    "    'nota2': ['mean', 'std', 'min', 'max'],\n",
    "    'nota_final': ['mean', 'std', 'min', 'max']\n",
    "})\n"
   ]
  },
  {
   "cell_type": "code",
   "execution_count": null,
   "metadata": {},
   "outputs": [],
   "source": [
    "\n",
    "\n",
    "resumo.index.name = None \n",
    "\n",
    "# Traduz estatísticas\n",
    "traducao = {'mean': 'Média', 'std': 'Desvio', 'min': 'Mínimo', 'max': 'Máximo'}\n",
    "resumo.columns = pd.MultiIndex.from_tuples(\n",
    "    [(col[0], traducao[col[1]]) for col in resumo.columns],\n",
    ")\n",
    "\n",
    "# Arredonda\n",
    "resumo = resumo.round(2)\n",
    "# Identifique as colunas que marcam os blocos de cada nota\n",
    "nota1_cols = [col for col in resumo.columns if col[0] == 'nota1']\n",
    "nota2_cols = [col for col in resumo.columns if col[0] == 'nota2']\n",
    "nota_3cols = [col for col in resumo.columns if col[0] == 'nota2']\n",
    "\n",
    "styles = [\n",
    "    {'selector': f'th.col{i}', 'props': [('border-left', '2.0px solid #999')]}\n",
    "    for i, col in enumerate(resumo.columns)\n",
    "    if col in [nota1_cols[-1], nota2_cols[-1],nota_3cols[-1]] \n",
    "]\n",
    "resumo_style = resumo.style.set_table_styles(styles + [\n",
    "    {'selector': 'th', 'props': [('text-align', 'center')]},\n",
    "    {'selector': 'td', 'props': [('text-align', 'center')]},\n",
    "    {'selector': 'td', 'props': [('text-align', 'center')]}\n",
    "]).set_caption(\"Resumo estatístico das notas por grupo de aprovação\")"
   ]
  },
  {
   "cell_type": "code",
   "execution_count": null,
   "metadata": {},
   "outputs": [],
   "source": [
    "resumo_style "
   ]
  },
  {
   "cell_type": "code",
   "execution_count": null,
   "metadata": {},
   "outputs": [],
   "source": [
    "aprovados = df[df['aprovacao']=='Aprovado']\n",
    "reprovados = df[df['aprovacao']=='Reprovado']\n"
   ]
  },
  {
   "cell_type": "markdown",
   "metadata": {},
   "source": [
    "##### Perfilamento Aprovados"
   ]
  },
  {
   "cell_type": "code",
   "execution_count": null,
   "metadata": {},
   "outputs": [],
   "source": [
    "avaliacao_variacao_pontuacao_media_por_categoria(aprovados,variaveis_categoricas,coluna_avaliada='nota_final')"
   ]
  },
  {
   "cell_type": "markdown",
   "metadata": {},
   "source": [
    "##### Perfilamento Reprovados"
   ]
  },
  {
   "cell_type": "code",
   "execution_count": null,
   "metadata": {},
   "outputs": [],
   "source": [
    "avaliacao_variacao_pontuacao_media_por_categoria(reprovados,variaveis_categoricas,coluna_avaliada='nota_final')"
   ]
  }
 ],
 "metadata": {
  "kernelspec": {
   "display_name": "venv",
   "language": "python",
   "name": "python3"
  },
  "language_info": {
   "codemirror_mode": {
    "name": "ipython",
    "version": 3
   },
   "file_extension": ".py",
   "mimetype": "text/x-python",
   "name": "python",
   "nbconvert_exporter": "python",
   "pygments_lexer": "ipython3",
   "version": "3.9.0"
  }
 },
 "nbformat": 4,
 "nbformat_minor": 2
}
